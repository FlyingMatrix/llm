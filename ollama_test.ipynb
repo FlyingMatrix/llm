{
 "cells": [
  {
   "cell_type": "code",
   "execution_count": null,
   "metadata": {},
   "outputs": [],
   "source": [
    "# !pip install ollama\n",
    "# !pip install llama-index-llms-ollama\n",
    "# !ollama run mistral"
   ]
  },
  {
   "cell_type": "code",
   "execution_count": null,
   "metadata": {},
   "outputs": [
    {
     "name": "stdout",
     "output_type": "stream",
     "text": [
      " The history of Artificial Intelligence (AI) can be traced back to the mid-20th century, with roots in the fields of mathematics and computer science. Here are some key milestones:\n",
      "\n",
      "1. Alan Turing (1950): British mathematician Alan Turing proposed the concept of a \"universal machine\" that could simulate any other computing device. In 1950, he introduced the famous Turing Test, which is still widely used as a benchmark for AI's ability to exhibit intelligent behavior indistinguishable from that of a human.\n",
      "\n",
      "2. John von Neumann (1950s): Hungarian-American mathematician John von Neumann developed the first stored-program computer architecture, which laid the foundation for modern computing machines and made it possible to create AI programs.\n",
      "\n",
      "3. Allen Newell, Herbert Simon, and J.C. Shaw (1956): They developed the Logic Theorist program at Carnegie Institute of Technology, which could prove a large portion of first-order logic. This was one of the earliest examples of an AI system capable of intelligent behavior.\n",
      "\n",
      "4. Arthur Samuel (1952-1967): Samuel wrote a checkers-playing program that improved its performance by learning from its mistakes and past games, marking the beginning of machine learning.\n",
      "\n",
      "5. Marvin Minsky and Seymour Papert (1958-1960s): They founded the Massachusetts Institute of Technology's AI lab and introduced the Perceptron model, an early artificial neural network, in 1958. Their work laid the groundwork for modern machine learning and deep learning techniques.\n",
      "\n",
      "6. Yoshua Bengio, Geoffrey Hinton, and Yann LeCun (1980s-present): These researchers played significant roles in the development of deep learning, which is a subset of machine learning that models multi-layer neural networks based on artificial neural networks. Deep learning has achieved unprecedented success in many AI applications, including speech recognition, image processing, and natural language processing.\n",
      "\n",
      "7. Ray Kurzweil (1990s): In the late 1980s and early 1990s, Kurzweil developed optical character recognition technology, text-to-speech synthesis systems, and speech recognition software. He is a strong advocate of the idea that AI will surpass human intelligence by around 2045.\n",
      "\n",
      "8. Andrew Ng (present): Ng has made significant contributions to deep learning, working on projects like Google Brain and Baidu Brain. He has played an important role in popularizing deep learning and democratizing access to deep learning tools through his course offerings on Coursera.\n",
      "\n",
      "The history of AI is continually evolving, with new breakthroughs and developments happening at a rapid pace. The field holds immense potential for solving complex problems, improving our lives, and even uncovering secrets about the universe and ourselves.\n"
     ]
    }
   ],
   "source": [
    "from llama_index.llms.ollama import Ollama\n",
    "\n",
    "llm = Ollama(model=\"mistral\", request_timeout=60.0)\n",
    "\n",
    "response = llm.complete(\"Tell me something about the history of AI\")\n",
    "\n",
    "print(response)"
   ]
  }
 ],
 "metadata": {
  "kernelspec": {
   "display_name": "ai-agent",
   "language": "python",
   "name": "python3"
  },
  "language_info": {
   "codemirror_mode": {
    "name": "ipython",
    "version": 3
   },
   "file_extension": ".py",
   "mimetype": "text/x-python",
   "name": "python",
   "nbconvert_exporter": "python",
   "pygments_lexer": "ipython3",
   "version": "3.13.2"
  }
 },
 "nbformat": 4,
 "nbformat_minor": 2
}
